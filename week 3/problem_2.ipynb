{
 "cells": [
  {
   "cell_type": "markdown",
   "metadata": {},
   "source": [
    "## problem_2"
   ]
  },
  {
   "cell_type": "code",
   "execution_count": null,
   "metadata": {},
   "outputs": [],
   "source": [
    "n, m = map(int, input().split())\n",
    "s = []\n",
    "min_len = n\n",
    "for _ in range(m):\n",
    "    l, r = map(int, input().split())\n",
    "    s.append((l, r))\n",
    "  \n",
    "    min_len = min(min_len, r - l + 1)\n",
    "\n",
    "max_min_mex = min_len\n",
    "a = []\n",
    "for i in range(n):\n",
    "    a.append(i % max_min_mex)\n",
    "\n",
    "print(max_min_mex)\n",
    "print(\" \".join(map(str, a)))"
   ]
  }
 ],
 "metadata": {
  "kernelspec": {
   "display_name": "Python 3",
   "language": "python",
   "name": "python3"
  },
  "language_info": {
   "codemirror_mode": {
    "name": "ipython",
    "version": 3
   },
   "file_extension": ".py",
   "mimetype": "text/x-python",
   "name": "python",
   "nbconvert_exporter": "python",
   "pygments_lexer": "ipython3",
   "version": "3.9.7"
  }
 },
 "nbformat": 4,
 "nbformat_minor": 2
}
