{
 "cells": [
  {
   "cell_type": "markdown",
   "metadata": {},
   "source": [
    "## problem_1"
   ]
  },
  {
   "cell_type": "code",
   "execution_count": null,
   "metadata": {},
   "outputs": [],
   "source": [
    "n = int(input())\n",
    "x = list(map(int, input().split()))[::-1]\n",
    "p = list(map(int, input().split()))[::-1]\n",
    "\n",
    "r = 0\n",
    "l = 0\n",
    "sol = set()  \n",
    "result = [] \n",
    "while l < n and r < n:\n",
    "    if x[l] == p[r]:\n",
    "        r += 1\n",
    "        l += 1\n",
    "    else:\n",
    "        if p[r] in sol:\n",
    "            r += 1\n",
    "        else:\n",
    "            sol.add(x[l])\n",
    "            result.append(x[l]) \n",
    "            l += 1\n",
    "\n",
    "print(len(result))\n"
   ]
  },
  {
   "cell_type": "markdown",
   "metadata": {},
   "source": [
    "## problem_2"
   ]
  },
  {
   "cell_type": "code",
   "execution_count": null,
   "metadata": {},
   "outputs": [],
   "source": [
    "n, m = map(int, input().split())\n",
    "s = []\n",
    "min_len = n\n",
    "for _ in range(m):\n",
    "    l, r = map(int, input().split())\n",
    "    s.append((l, r))\n",
    "  \n",
    "    min_len = min(min_len, r - l + 1)\n",
    "\n",
    "max_min_mex = min_len\n",
    "a = []\n",
    "for i in range(n):\n",
    "    a.append(i % max_min_mex)\n",
    "\n",
    "print(max_min_mex)\n",
    "print(\" \".join(map(str, a)))"
   ]
  },
  {
   "cell_type": "markdown",
   "metadata": {},
   "source": [
    "## problem_3"
   ]
  },
  {
   "cell_type": "code",
   "execution_count": null,
   "metadata": {},
   "outputs": [],
   "source": [
    "def count(n, m, c, office_room):\n",
    "    s = set()\n",
    "    directions = [(-1, 0), (1, 0), (0, -1), (0, 1)]\n",
    "    \n",
    "    for i in range(n):\n",
    "        for j in range(m):\n",
    "            if office_room[i][j] == c:\n",
    "                for direction in directions:\n",
    "                    ni, nj = i + direction[0], j + direction[1]\n",
    "                    if 0 <= ni < n and 0 <= nj < m:\n",
    "                        adj_cell = office_room[ni][nj]\n",
    "                        if adj_cell != '.' and adj_cell != c:\n",
    "                            s.add(adj_cell)\n",
    "    \n",
    "    return len(s)\n",
    "n, m, c = input().split()\n",
    "n, m = int(n), int(m)\n",
    "office_room = [input() for _ in range(n)]\n",
    "result = count(n, m, c, office_room)\n",
    " \n",
    "print(result)"
   ]
  }
 ],
 "metadata": {
  "kernelspec": {
   "display_name": "Python 3",
   "language": "python",
   "name": "python3"
  },
  "language_info": {
   "codemirror_mode": {
    "name": "ipython",
    "version": 3
   },
   "file_extension": ".py",
   "mimetype": "text/x-python",
   "name": "python",
   "nbconvert_exporter": "python",
   "pygments_lexer": "ipython3",
   "version": "3.9.7"
  }
 },
 "nbformat": 4,
 "nbformat_minor": 2
}
