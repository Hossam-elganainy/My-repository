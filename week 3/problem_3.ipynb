{
 "cells": [
  {
   "cell_type": "markdown",
   "metadata": {},
   "source": [
    "## problem_3"
   ]
  },
  {
   "cell_type": "code",
   "execution_count": null,
   "metadata": {},
   "outputs": [],
   "source": [
    "def count(n, m, c, office_room):\n",
    "    s = set()\n",
    "    directions = [(-1, 0), (1, 0), (0, -1), (0, 1)]\n",
    "    \n",
    "    for i in range(n):\n",
    "        for j in range(m):\n",
    "            if office_room[i][j] == c:\n",
    "                for direction in directions:\n",
    "                    ni, nj = i + direction[0], j + direction[1]\n",
    "                    if 0 <= ni < n and 0 <= nj < m:\n",
    "                        adj_cell = office_room[ni][nj]\n",
    "                        if adj_cell != '.' and adj_cell != c:\n",
    "                            s.add(adj_cell)\n",
    "    \n",
    "    return len(s)\n",
    "n, m, c = input().split()\n",
    "n, m = int(n), int(m)\n",
    "office_room = [input() for _ in range(n)]\n",
    "result = count(n, m, c, office_room)\n",
    " \n",
    "print(result)"
   ]
  }
 ],
 "metadata": {
  "kernelspec": {
   "display_name": "Python 3",
   "language": "python",
   "name": "python3"
  },
  "language_info": {
   "codemirror_mode": {
    "name": "ipython",
    "version": 3
   },
   "file_extension": ".py",
   "mimetype": "text/x-python",
   "name": "python",
   "nbconvert_exporter": "python",
   "pygments_lexer": "ipython3",
   "version": "3.9.7"
  }
 },
 "nbformat": 4,
 "nbformat_minor": 2
}
