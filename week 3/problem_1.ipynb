{
 "cells": [
  {
   "cell_type": "markdown",
   "metadata": {},
   "source": [
    "## problem_1"
   ]
  },
  {
   "cell_type": "code",
   "execution_count": null,
   "metadata": {},
   "outputs": [],
   "source": [
    "n = int(input())\n",
    "x = list(map(int, input().split()))[::-1]\n",
    "p = list(map(int, input().split()))[::-1]\n",
    "\n",
    "r = 0\n",
    "l = 0\n",
    "sol = set()  \n",
    "result = [] \n",
    "while l < n and r < n:\n",
    "    if x[l] == p[r]:\n",
    "        r += 1\n",
    "        l += 1\n",
    "    else:\n",
    "        if p[r] in sol:\n",
    "            r += 1\n",
    "        else:\n",
    "            sol.add(x[l])\n",
    "            result.append(x[l]) \n",
    "            l += 1\n",
    "\n",
    "print(len(result))\n"
   ]
  }
 ],
 "metadata": {
  "kernelspec": {
   "display_name": "Python 3",
   "language": "python",
   "name": "python3"
  },
  "language_info": {
   "codemirror_mode": {
    "name": "ipython",
    "version": 3
   },
   "file_extension": ".py",
   "mimetype": "text/x-python",
   "name": "python",
   "nbconvert_exporter": "python",
   "pygments_lexer": "ipython3",
   "version": "3.9.7"
  }
 },
 "nbformat": 4,
 "nbformat_minor": 2
}
