{
 "cells": [
  {
   "cell_type": "markdown",
   "metadata": {},
   "source": [
    "## problem 6"
   ]
  },
  {
   "cell_type": "markdown",
   "metadata": {},
   "source": [
    "#### https://codeforces.com/contest/152/problem/B"
   ]
  },
  {
   "cell_type": "code",
   "execution_count": null,
   "metadata": {},
   "outputs": [],
   "source": [
    "n, m = map(int, input().strip().split())\n",
    "xc, yc = map(int, input().strip().split())\n",
    "k = int(input().strip())\n",
    "\n",
    "vectors = [tuple(map(int, input().strip().split())) for _ in range(k)]\n",
    "\n",
    "def max_steps(n, m, xc, yc, vectors):\n",
    "    total_steps = 0\n",
    "    for dx, dy in vectors:\n",
    "        if dx > 0:\n",
    "            steps_x = (n - xc) // dx\n",
    "        elif dx < 0:\n",
    "            steps_x = (1 - xc) // dx\n",
    "        else:\n",
    "            steps_x = float('inf')\n",
    "        \n",
    "        if dy > 0:\n",
    "            steps_y = (m - yc) // dy\n",
    "        elif dy < 0:\n",
    "            steps_y = (1 - yc) // dy\n",
    "        else:\n",
    "            steps_y = float('inf')\n",
    "        \n",
    "        steps = min(steps_x, steps_y)\n",
    "        total_steps += steps\n",
    "        xc += steps * dx\n",
    "        yc += steps * dy\n",
    "    \n",
    "    return total_steps\n",
    "\n",
    "result = max_steps(n, m, xc, yc, vectors)\n",
    "print(result)"
   ]
  }
 ],
 "metadata": {
  "kernelspec": {
   "display_name": "Python 3",
   "language": "python",
   "name": "python3"
  },
  "language_info": {
   "codemirror_mode": {
    "name": "ipython",
    "version": 3
   },
   "file_extension": ".py",
   "mimetype": "text/x-python",
   "name": "python",
   "nbconvert_exporter": "python",
   "pygments_lexer": "ipython3",
   "version": "3.9.7"
  }
 },
 "nbformat": 4,
 "nbformat_minor": 2
}
